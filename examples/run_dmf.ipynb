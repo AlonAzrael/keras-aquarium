{
 "cells": [
  {
   "cell_type": "code",
   "execution_count": null,
   "metadata": {
    "collapsed": false
   },
   "outputs": [],
   "source": [
    "import os\n",
    "from os.path import dirname, realpath, sep, pardir\n",
    "import sys\n",
    "sys.path.append( realpath(\"./\") + sep + pardir )"
   ]
  },
  {
   "cell_type": "code",
   "execution_count": null,
   "metadata": {
    "collapsed": false
   },
   "outputs": [],
   "source": [
    "os.environ[\"KERAS_BACKEND\"] = \"tensorflow\"\n",
    "import keras_aquarium as ka\n",
    "from keras_aquarium import *"
   ]
  },
  {
   "cell_type": "code",
   "execution_count": null,
   "metadata": {
    "collapsed": true
   },
   "outputs": [],
   "source": [
    "import numpy as np\n",
    "from scipy.sparse import *"
   ]
  },
  {
   "cell_type": "code",
   "execution_count": null,
   "metadata": {
    "collapsed": true
   },
   "outputs": [],
   "source": [
    "from sklearn.datasets import make_sparse_coded_signal"
   ]
  },
  {
   "cell_type": "code",
   "execution_count": null,
   "metadata": {
    "collapsed": true
   },
   "outputs": [],
   "source": [
    "n_samples = 100\n",
    "n_features = 30\n",
    "n_components = 20\n",
    "\n",
    "rating_matrix, dicionary, sp_code = make_sparse_coded_signal(\n",
    "    n_samples=n_samples, n_components=n_components, n_features=n_features, n_nonzero_coefs=10)"
   ]
  },
  {
   "cell_type": "code",
   "execution_count": null,
   "metadata": {
    "collapsed": false
   },
   "outputs": [],
   "source": [
    "rating_matrix = csr_matrix(rating_matrix.T)\n",
    "col_features = csr_matrix(dicionary)\n",
    "row_features = csr_matrix(sp_code.T)"
   ]
  },
  {
   "cell_type": "code",
   "execution_count": null,
   "metadata": {
    "collapsed": true
   },
   "outputs": [],
   "source": [
    "n_row, n_col = rating_matrix.shape\n",
    "n_row_feature = row_features.shape[1]\n",
    "n_col_feature = col_features.shape[1]\n",
    "row_dim = n_components\n",
    "col_dim = n_components\n",
    "row_feature_dim = n_components\n",
    "col_feature_dim = n_components\n"
   ]
  },
  {
   "cell_type": "code",
   "execution_count": null,
   "metadata": {
    "collapsed": false
   },
   "outputs": [],
   "source": [
    "model = dmf.DeepMatrixFactorization(\n",
    "    n_row, n_col, n_row_feature, n_col_feature, row_dim, col_dim, row_feature_dim, col_feature_dim, \n",
    "    row_layers=[(25, \"relu\")], col_layers=[(25, \"relu\")]\n",
    ")\n"
   ]
  },
  {
   "cell_type": "code",
   "execution_count": null,
   "metadata": {
    "collapsed": true
   },
   "outputs": [],
   "source": [
    "dgr = dmf.generate_dataset(rating_matrix, row_features, col_features, batch_size=10, epochs=None)"
   ]
  },
  {
   "cell_type": "code",
   "execution_count": null,
   "metadata": {
    "collapsed": false
   },
   "outputs": [],
   "source": [
    "\n",
    "dmf.train_model(model, dgr, 10, epochs=10)"
   ]
  },
  {
   "cell_type": "code",
   "execution_count": null,
   "metadata": {
    "collapsed": false
   },
   "outputs": [],
   "source": [
    "indices = np.array([1, 3, 9, 76, 53])\n",
    "print dmf.get_row_hiddens(model, indices, row_features)\n"
   ]
  },
  {
   "cell_type": "code",
   "execution_count": null,
   "metadata": {
    "collapsed": true
   },
   "outputs": [],
   "source": []
  }
 ],
 "metadata": {
  "kernelspec": {
   "display_name": "Python 2",
   "language": "python",
   "name": "python2"
  },
  "language_info": {
   "codemirror_mode": {
    "name": "ipython",
    "version": 2
   },
   "file_extension": ".py",
   "mimetype": "text/x-python",
   "name": "python",
   "nbconvert_exporter": "python",
   "pygments_lexer": "ipython2",
   "version": "2.7.13"
  }
 },
 "nbformat": 4,
 "nbformat_minor": 2
}
